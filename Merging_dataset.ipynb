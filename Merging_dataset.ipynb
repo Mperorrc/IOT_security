{
  "cells": [
    {
      "cell_type": "markdown",
      "metadata": {
        "id": "view-in-github",
        "colab_type": "text"
      },
      "source": [
        "<a href=\"https://colab.research.google.com/github/vujjiniashrith/IOT_security/blob/main/Merging_dataset.ipynb\" target=\"_parent\"><img src=\"https://colab.research.google.com/assets/colab-badge.svg\" alt=\"Open In Colab\"/></a>"
      ]
    },
    {
      "cell_type": "code",
      "execution_count": null,
      "id": "1da35f2c",
      "metadata": {
        "id": "1da35f2c"
      },
      "outputs": [],
      "source": [
        "import pandas\n",
        "import numpy"
      ]
    },
    {
      "cell_type": "code",
      "execution_count": null,
      "id": "f7df5bc4",
      "metadata": {
        "id": "f7df5bc4",
        "outputId": "cad795ee-c555-45dd-ad85-68aad3434ad0"
      },
      "outputs": [
        {
          "data": {
            "text/plain": [
              "3659"
            ]
          },
          "execution_count": 20,
          "metadata": {},
          "output_type": "execute_result"
        }
      ],
      "source": [
        "df=pd.DataFrame()\n",
        "for i in range(1,10):\n",
        "    output_file_name = 'merged_4010000' + str(i) + '.xlsx'\n",
        "    new_df=pd.read_excel(output_file_name)\n",
        "    df = pd.concat([df,new_df],axis=0)\n",
        "\n",
        "for i in range(10,100):\n",
        "    output_file_name = 'merged_401000' + str(i) + '.xlsx'\n",
        "    new_df=pd.read_excel(output_file_name)\n",
        "    df = pd.concat([df,new_df],axis=0)\n",
        "\n",
        "for i in range(100,151):\n",
        "    output_file_name = 'merged_40100' + str(i) + '.xlsx'\n",
        "    new_df=pd.read_excel(output_file_name)\n",
        "    df = pd.concat([df,new_df],axis=0)"
      ]
    },
    {
      "cell_type": "code",
      "execution_count": null,
      "id": "189af7aa",
      "metadata": {
        "id": "189af7aa"
      },
      "outputs": [],
      "source": []
    },
    {
      "cell_type": "code",
      "execution_count": null,
      "id": "666eefb9",
      "metadata": {
        "id": "666eefb9"
      },
      "outputs": [],
      "source": []
    }
  ],
  "metadata": {
    "kernelspec": {
      "display_name": "Python 3 (ipykernel)",
      "language": "python",
      "name": "python3"
    },
    "language_info": {
      "codemirror_mode": {
        "name": "ipython",
        "version": 3
      },
      "file_extension": ".py",
      "mimetype": "text/x-python",
      "name": "python",
      "nbconvert_exporter": "python",
      "pygments_lexer": "ipython3",
      "version": "3.9.13"
    },
    "colab": {
      "provenance": [],
      "include_colab_link": true
    }
  },
  "nbformat": 4,
  "nbformat_minor": 5
}