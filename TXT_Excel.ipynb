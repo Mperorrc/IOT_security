{
  "cells": [
    {
      "cell_type": "markdown",
      "metadata": {
        "id": "view-in-github",
        "colab_type": "text"
      },
      "source": [
        "<a href=\"https://colab.research.google.com/github/vujjiniashrith/IOT_security/blob/main/TXT_Excel.ipynb\" target=\"_parent\"><img src=\"https://colab.research.google.com/assets/colab-badge.svg\" alt=\"Open In Colab\"/></a>"
      ]
    },
    {
      "cell_type": "code",
      "execution_count": null,
      "id": "1da35f2c",
      "metadata": {
        "id": "1da35f2c"
      },
      "outputs": [],
      "source": [
        "import pandas as pd\n",
        "\n",
        "for i in range(100,120):\n",
        "    text_file_name = '40100' + str(i) + '.txt'\n",
        "    output_file_name = 'merged_40100' + str(i) + '.xlsx'\n",
        "    with open(text_file_name, 'r') as file:\n",
        "        lines = file.readlines()\n",
        "\n",
        "    data = {'SpO2': [], 'HR': [], 'PULSE': [], 'RESP': [], 'ABP1': [], 'ABP2': [], 'ABP3': [], 'INOP_PLETH': [], 'INOP_SpO2': [], 'INOP_RESP': [], 'INOP_NOISE':[],'ALARM':[]}\n",
        "\n",
        "    for i in range (len(lines)):\n",
        "\n",
        "        if lines[i]:\n",
        "            Parts = lines[i].split()\n",
        "\n",
        "            Key = Parts[0]\n",
        "            Values = Parts[1:]\n",
        "            # Check if the key is \"RESP\"\n",
        "            if Key == \"RESP\":\n",
        "                count=7\n",
        "                pleth = False\n",
        "                spo2=False\n",
        "                resp = False\n",
        "                noise =False\n",
        "                alarm = False\n",
        "                while True:\n",
        "                    #write your code here to add the data into the dataframe from one \"RESP\" to next \"RESP\"\n",
        "                    part1=lines[i].split()\n",
        "                    key = part1[0]\n",
        "                    values = part1[1:]\n",
        "                    if key.startswith('ABP'):\n",
        "                        data['ABP1'].append(values[0] if len(values) > 0 else None)\n",
        "                        data['ABP2'].append(values[1] if len(values) > 1 else None)\n",
        "                        data['ABP3'].append(values[2] if len(values) > 2 else None)\n",
        "                    elif key.startswith('ALARM'):\n",
        "                        data['ALARM'].append(values[0:] if len(values)> 0 else None)\n",
        "                        alarm =True\n",
        "                    elif key.startswith('INOP'):\n",
        "                        if values[0] == 'PLETH':\n",
        "                            data['INOP_PLETH'].append(' '.join(values[0:]) if len(values) > 1 else None)\n",
        "                            pleth = True\n",
        "                        elif values[0] =='SpO2':\n",
        "                            data['INOP_SpO2'].append(' '.join(values[0:]) if len(values) > 1 else None)\n",
        "                            spo2= True\n",
        "                        elif values[0] == 'RESP':\n",
        "                            data['INOP_RESP'].append(' '.join(values[0:]) if len(values) > 1 else None)\n",
        "                            resp= True\n",
        "                        elif values[0] != 'LEADS':\n",
        "                            data['INOP_NOISE'].append(' '.join(values[0:]) if len(values) > 1 else None)\n",
        "                            noise = True\n",
        "                    else:\n",
        "                        data[key].append(' '.join(values))\n",
        "\n",
        "                    i = i+1\n",
        "                    count =count -1\n",
        "                    if i+1 < len(lines) :\n",
        "                        next_part = lines[i].split()\n",
        "                        next_key=next_part[0]\n",
        "                        if next_key == \"RESP\":\n",
        "                            break\n",
        "                    else:\n",
        "                        break\n",
        "                if count <=2 :\n",
        "                    if pleth==False :\n",
        "                        data['INOP_PLETH'].append(0)\n",
        "                    if spo2 == False:\n",
        "                        data['INOP_SpO2'].append(0)\n",
        "                    if resp == False:\n",
        "                        data['INOP_RESP'].append(0)\n",
        "                    if noise== False:\n",
        "                        data['INOP_NOISE'].append(0)\n",
        "                    if alarm == False:\n",
        "                        data['ALARM'].append(0)\n",
        "\n",
        "            else:\n",
        "                continue\n",
        "\n",
        "\n",
        "\n",
        "    # Fill missing values with None\n",
        "    max_length = max(len(data[key]) for key in data)\n",
        "    for key in data:\n",
        "        data[key] += [None] * (max_length - len(data[key]))\n",
        "\n",
        "    #converting text into integer\n",
        "\n",
        "    columns = ['SpO2', 'HR', 'PULSE', 'RESP', 'ABP1', 'ABP2', 'ABP3']\n",
        "\n",
        "\n",
        "\n",
        "    # Create a DataFrame from the data\n",
        "    df = pd.DataFrame(data)\n",
        "\n",
        "    for column in columns:\n",
        "        df[column]= pd.to_numeric(df[column],errors='coerce',downcast='integer')\n",
        "\n",
        "    # Save the DataFrame to an Excel file\n",
        "    df.to_excel(output_file_name, index=False)"
      ]
    },
    {
      "cell_type": "code",
      "execution_count": null,
      "id": "f7df5bc4",
      "metadata": {
        "id": "f7df5bc4",
        "outputId": "cad795ee-c555-45dd-ad85-68aad3434ad0"
      },
      "outputs": [
        {
          "data": {
            "text/plain": [
              "3659"
            ]
          },
          "execution_count": 20,
          "metadata": {},
          "output_type": "execute_result"
        }
      ],
      "source": [
        "len(lines)"
      ]
    },
    {
      "cell_type": "code",
      "execution_count": null,
      "id": "189af7aa",
      "metadata": {
        "id": "189af7aa"
      },
      "outputs": [],
      "source": []
    },
    {
      "cell_type": "code",
      "execution_count": null,
      "id": "666eefb9",
      "metadata": {
        "id": "666eefb9"
      },
      "outputs": [],
      "source": []
    }
  ],
  "metadata": {
    "kernelspec": {
      "display_name": "Python 3 (ipykernel)",
      "language": "python",
      "name": "python3"
    },
    "language_info": {
      "codemirror_mode": {
        "name": "ipython",
        "version": 3
      },
      "file_extension": ".py",
      "mimetype": "text/x-python",
      "name": "python",
      "nbconvert_exporter": "python",
      "pygments_lexer": "ipython3",
      "version": "3.9.13"
    },
    "colab": {
      "provenance": [],
      "include_colab_link": true
    }
  },
  "nbformat": 4,
  "nbformat_minor": 5
}